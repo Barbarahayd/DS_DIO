{
 "cells": [
  {
   "cell_type": "code",
   "execution_count": 1,
   "metadata": {},
   "outputs": [
    {
     "data": {
      "text/plain": [
       "'IF :\\nO comando ira testar a expressao logica, e em caso de retorno verdadeiro\\nas acoes presentes no bloco de codigo if serao executadas'"
      ]
     },
     "execution_count": 1,
     "metadata": {},
     "output_type": "execute_result"
    }
   ],
   "source": [
    "'''\n",
    "IF/ELSE:\n",
    "O comando ira testar a expressao logica, e em caso de retorno verdadeiro\n",
    "as acoes presentes no bloco de codigo if serao executadas, caso contrario \n",
    "o bloco de codigo ELSE sera executado\n",
    "'''"
   ]
  },
  {
   "cell_type": "code",
   "execution_count": 2,
   "metadata": {},
   "outputs": [
    {
     "name": "stdout",
     "output_type": "stream",
     "text": [
      "Saque realizado com sucesso!\n"
     ]
    }
   ],
   "source": [
    "# Ex\n",
    "\n",
    "saldo = 2000\n",
    "valor_saque = float(input(\"Informe o valor a ser sacado: \"))\n",
    "\n",
    "if saldo >= valor_saque:\n",
    "    print(\"Saque realizado com sucesso!\")\n",
    "else:\n",
    "    print(\"Saldo insuficiente\")"
   ]
  },
  {
   "cell_type": "code",
   "execution_count": 19,
   "metadata": {},
   "outputs": [
    {
     "name": "stdout",
     "output_type": "stream",
     "text": [
      "Saque realizado!\n"
     ]
    }
   ],
   "source": [
    "# Ex elif\n",
    "\n",
    "saldo = 1000\n",
    "opcao = int(input(\"Informe uma opcao: [1] Sacar \\n[2] Extrato: \"))\n",
    "\n",
    "if opcao == 1:\n",
    "    valor = float(input(\"Informe o valor a ser sacado: \"))\n",
    "    if valor <= saldo:\n",
    "        print(\"Saque realizado!\")\n",
    "    else:\n",
    "        print(\"Saldo insuficiente.\")\n",
    "elif opcao == 2:\n",
    "    print(\"Exibindo o extrato...\\n Disponivel para saque: \", saldo)\n",
    "else:\n",
    "    sys.exit(\"Opcao invalida\")"
   ]
  }
 ],
 "metadata": {
  "kernelspec": {
   "display_name": "Python 3.10.6 64-bit (microsoft store)",
   "language": "python",
   "name": "python3"
  },
  "language_info": {
   "codemirror_mode": {
    "name": "ipython",
    "version": 3
   },
   "file_extension": ".py",
   "mimetype": "text/x-python",
   "name": "python",
   "nbconvert_exporter": "python",
   "pygments_lexer": "ipython3",
   "version": "3.10.6"
  },
  "orig_nbformat": 4,
  "vscode": {
   "interpreter": {
    "hash": "285f3f6caf67aec96233242408f9bc1fae8bb65add26eb4becfdd5b1dc340099"
   }
  }
 },
 "nbformat": 4,
 "nbformat_minor": 2
}
