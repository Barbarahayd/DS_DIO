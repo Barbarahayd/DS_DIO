{
 "cells": [
  {
   "cell_type": "code",
   "execution_count": 4,
   "metadata": {},
   "outputs": [],
   "source": [
    "# Ex. For\n",
    "\n",
    "texto = input(\"Informe um texto: \")\n",
    "VOGAIS = \"AEIOU\"\n",
    "\n",
    "for letra in texto:\n",
    "    if letra.upper() in VOGAIS:\n",
    "        print(letra, end=\"\")\n"
   ]
  },
  {
   "cell_type": "code",
   "execution_count": 9,
   "metadata": {},
   "outputs": [
    {
     "name": "stdout",
     "output_type": "stream",
     "text": [
      "012345678910"
     ]
    }
   ],
   "source": [
    "# Ex. Funcao built-in RANGE\n",
    "# Recebe 3 argumentos: stop (obrigatorio), start(opcional) e step (opcional)\n",
    "\n",
    "for numero in range(0,11):\n",
    "    print(numero, end=\"\")"
   ]
  },
  {
   "cell_type": "code",
   "execution_count": 8,
   "metadata": {},
   "outputs": [
    {
     "name": "stdout",
     "output_type": "stream",
     "text": [
      "05101520253035404550"
     ]
    }
   ],
   "source": [
    "# exibindo tabuada do 5 (com range)\n",
    "\n",
    "for numero in range(0, 51, 5):\n",
    "    print(numero, end=\"\")\n"
   ]
  },
  {
   "cell_type": "code",
   "execution_count": 11,
   "metadata": {},
   "outputs": [
    {
     "name": "stdout",
     "output_type": "stream",
     "text": [
      "Exibindo o extrato...\n"
     ]
    }
   ],
   "source": [
    "# Repeticao com While\n",
    "# Repete um bloco de codigo varias vezes\n",
    "\n",
    "opcao = -1\n",
    "\n",
    "while opcao != 0:\n",
    "    opcao = int(input(\"[1] Sacar \\n[2] Extrato \\n [0] Sair \\n: \"))\n",
    "\n",
    "    if opcao == 1:\n",
    "        print(\"Sacando...\")\n",
    "    elif opcao == 2:\n",
    "        print(\"Exibindo o extrato...\")"
   ]
  },
  {
   "cell_type": "code",
   "execution_count": null,
   "metadata": {},
   "outputs": [],
   "source": [
    "# While com teste de condicao\n",
    "\n",
    "while True:\n",
    "    numero = 20\n",
    "\n"
   ]
  }
 ],
 "metadata": {
  "kernelspec": {
   "display_name": "Python 3.10.6 64-bit (microsoft store)",
   "language": "python",
   "name": "python3"
  },
  "language_info": {
   "codemirror_mode": {
    "name": "ipython",
    "version": 3
   },
   "file_extension": ".py",
   "mimetype": "text/x-python",
   "name": "python",
   "nbconvert_exporter": "python",
   "pygments_lexer": "ipython3",
   "version": "3.10.6"
  },
  "orig_nbformat": 4,
  "vscode": {
   "interpreter": {
    "hash": "285f3f6caf67aec96233242408f9bc1fae8bb65add26eb4becfdd5b1dc340099"
   }
  }
 },
 "nbformat": 4,
 "nbformat_minor": 2
}
