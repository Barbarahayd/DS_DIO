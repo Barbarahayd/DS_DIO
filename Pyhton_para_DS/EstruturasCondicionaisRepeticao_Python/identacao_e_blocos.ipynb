{
 "cells": [
  {
   "cell_type": "code",
   "execution_count": null,
   "metadata": {},
   "outputs": [],
   "source": [
    "'''Atraves da Identacao o interpretador consegue determinar onde \n",
    "    um bloco de comando inicia e onde ele termina\n",
    "      a convencao é utilizar 4 espacos por novo bloco'''"
   ]
  },
  {
   "cell_type": "code",
   "execution_count": 3,
   "metadata": {},
   "outputs": [],
   "source": [
    "def sacar(self, valor: float) -> None:  #inicio do bloco do metodo\n",
    "\n",
    "    if self.saldo >= valor:  #inicio do bloco if\n",
    "        self.valor -= valor\n",
    "    \n",
    "    #fim bloco if\n",
    "\n",
    "#fim bloco metodo"
   ]
  },
  {
   "cell_type": "code",
   "execution_count": 13,
   "metadata": {},
   "outputs": [
    {
     "name": "stdout",
     "output_type": "stream",
     "text": [
      "Valor sacado!\n",
      "Tenha um bom dia!\n"
     ]
    }
   ],
   "source": [
    "#ex\n",
    "valor_saque = int(input(\"Insira o valor que deseja sacar: \"))\n",
    "\n",
    "def sacar(valor):\n",
    "    saldo = 500\n",
    "\n",
    "    if saldo >= valor_saque:\n",
    "        print(\"Valor sacado!\")\n",
    "    else:\n",
    "        print(\"Saldo insuficiente\")\n",
    "    \n",
    "    print(\"Tenha um bom dia!\")\n",
    "\n",
    "sacar(valor_saque)"
   ]
  }
 ],
 "metadata": {
  "kernelspec": {
   "display_name": "Python 3.10.6 64-bit (microsoft store)",
   "language": "python",
   "name": "python3"
  },
  "language_info": {
   "codemirror_mode": {
    "name": "ipython",
    "version": 3
   },
   "file_extension": ".py",
   "mimetype": "text/x-python",
   "name": "python",
   "nbconvert_exporter": "python",
   "pygments_lexer": "ipython3",
   "version": "3.10.6"
  },
  "orig_nbformat": 4,
  "vscode": {
   "interpreter": {
    "hash": "285f3f6caf67aec96233242408f9bc1fae8bb65add26eb4becfdd5b1dc340099"
   }
  }
 },
 "nbformat": 4,
 "nbformat_minor": 2
}
