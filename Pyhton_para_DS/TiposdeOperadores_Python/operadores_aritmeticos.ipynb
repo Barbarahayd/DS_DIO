{
 "cells": [
  {
   "cell_type": "code",
   "execution_count": 1,
   "metadata": {},
   "outputs": [
    {
     "name": "stdout",
     "output_type": "stream",
     "text": [
      "2\n"
     ]
    }
   ],
   "source": [
    "# Adicao\n",
    "\n",
    "print (1 + 1)"
   ]
  },
  {
   "cell_type": "code",
   "execution_count": 3,
   "metadata": {},
   "outputs": [
    {
     "name": "stdout",
     "output_type": "stream",
     "text": [
      "8\n"
     ]
    }
   ],
   "source": [
    "# Subtracao\n",
    "\n",
    "print (10 - 2)"
   ]
  },
  {
   "cell_type": "code",
   "execution_count": 4,
   "metadata": {},
   "outputs": [
    {
     "name": "stdout",
     "output_type": "stream",
     "text": [
      "12\n"
     ]
    }
   ],
   "source": [
    "# Multiplicacao\n",
    "\n",
    "print (4*3)"
   ]
  },
  {
   "cell_type": "code",
   "execution_count": 6,
   "metadata": {},
   "outputs": [
    {
     "name": "stdout",
     "output_type": "stream",
     "text": [
      "4.5\n",
      "4\n"
     ]
    }
   ],
   "source": [
    "# Divisao normal\n",
    "\n",
    "print (9 / 2)\n",
    "\n",
    "# Divisao inteira\n",
    "\n",
    "print (9 // 2)\n"
   ]
  },
  {
   "cell_type": "code",
   "execution_count": 1,
   "metadata": {},
   "outputs": [
    {
     "name": "stdout",
     "output_type": "stream",
     "text": [
      "1\n"
     ]
    }
   ],
   "source": [
    "# Modulo\n",
    "\n",
    "print (10%3)"
   ]
  },
  {
   "cell_type": "code",
   "execution_count": 3,
   "metadata": {},
   "outputs": [
    {
     "name": "stdout",
     "output_type": "stream",
     "text": [
      "8\n"
     ]
    }
   ],
   "source": [
    "# Exponenciacao\n",
    "\n",
    "print (2 ** 3)"
   ]
  },
  {
   "cell_type": "code",
   "execution_count": 4,
   "metadata": {},
   "outputs": [
    {
     "data": {
      "text/plain": [
       "' \\nOrdem de precedencia das operacoes\\n\\n1.Parentesis\\n2.Expoentes \\n3.Multplicacao e Divisao (esq. para direita)\\n4.Somas e Subtracao (esq. para direita)\\n'"
      ]
     },
     "execution_count": 4,
     "metadata": {},
     "output_type": "execute_result"
    }
   ],
   "source": [
    "''' \n",
    "Ordem de precedencia das operacoes\n",
    "\n",
    "1.Parenteses\n",
    "2.Expoentes \n",
    "3.Multplicacao e Divisao (esq. para direita)\n",
    "4.Somas e Subtracao (esq. para direita)\n",
    "'''\n",
    "\n"
   ]
  },
  {
   "cell_type": "code",
   "execution_count": 7,
   "metadata": {},
   "outputs": [
    {
     "name": "stdout",
     "output_type": "stream",
     "text": [
      "0\n",
      "10\n",
      "200\n"
     ]
    }
   ],
   "source": [
    "#Exemplos\n",
    "\n",
    "print (10-5 *2)\n",
    "\n",
    "print ((10-5)*2)\n",
    "\n",
    "print(10**2*2)  #10 ao cubo multiplicado por 2"
   ]
  },
  {
   "cell_type": "code",
   "execution_count": 16,
   "metadata": {},
   "outputs": [
    {
     "name": "stdout",
     "output_type": "stream",
     "text": [
      "122.5\n"
     ]
    }
   ],
   "source": [
    "#Pratica\n",
    "\n",
    "prod_1 = 50\n",
    "prod_2 = 72.50\n",
    "\n",
    "print(prod_1+prod_2)"
   ]
  }
 ],
 "metadata": {
  "kernelspec": {
   "display_name": "Python 3.9.12 ('base')",
   "language": "python",
   "name": "python3"
  },
  "language_info": {
   "codemirror_mode": {
    "name": "ipython",
    "version": 3
   },
   "file_extension": ".py",
   "mimetype": "text/x-python",
   "name": "python",
   "nbconvert_exporter": "python",
   "pygments_lexer": "ipython3",
   "version": "3.9.12"
  },
  "orig_nbformat": 4,
  "vscode": {
   "interpreter": {
    "hash": "4224439bc3c133dad48a350f426af8f43dc5e981eb6df4f3dc27911fe225f2c5"
   }
  }
 },
 "nbformat": 4,
 "nbformat_minor": 2
}
