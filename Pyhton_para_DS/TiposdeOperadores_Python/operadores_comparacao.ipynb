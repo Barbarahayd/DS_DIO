{
 "cells": [
  {
   "cell_type": "code",
   "execution_count": 3,
   "metadata": {},
   "outputs": [
    {
     "name": "stdout",
     "output_type": "stream",
     "text": [
      "False\n"
     ]
    }
   ],
   "source": [
    "# Igualdade\n",
    "\n",
    "saldo = 500\n",
    "saque = 280\n",
    "\n",
    "print(saldo == saque)"
   ]
  },
  {
   "cell_type": "code",
   "execution_count": 7,
   "metadata": {},
   "outputs": [
    {
     "name": "stdout",
     "output_type": "stream",
     "text": [
      "True\n"
     ]
    }
   ],
   "source": [
    "# Diferenca\n",
    "\n",
    "saldo = 500\n",
    "saque = 200\n",
    "\n",
    "print(saldo != saque)"
   ]
  },
  {
   "cell_type": "code",
   "execution_count": 11,
   "metadata": {},
   "outputs": [
    {
     "name": "stdout",
     "output_type": "stream",
     "text": [
      "True\n",
      "False\n",
      "True\n",
      "False\n"
     ]
    }
   ],
   "source": [
    "# Maior / Menor / Maior ou Igual / Menor ou igual\n",
    "\n",
    "print(saldo > saque)\n",
    "\n",
    "print(saldo < saque)\n",
    "\n",
    "print(saldo >= saque)\n",
    "\n",
    "print(saldo <= saque)"
   ]
  }
 ],
 "metadata": {
  "kernelspec": {
   "display_name": "Python 3.9.12 ('base')",
   "language": "python",
   "name": "python3"
  },
  "language_info": {
   "codemirror_mode": {
    "name": "ipython",
    "version": 3
   },
   "file_extension": ".py",
   "mimetype": "text/x-python",
   "name": "python",
   "nbconvert_exporter": "python",
   "pygments_lexer": "ipython3",
   "version": "3.9.12"
  },
  "orig_nbformat": 4,
  "vscode": {
   "interpreter": {
    "hash": "4224439bc3c133dad48a350f426af8f43dc5e981eb6df4f3dc27911fe225f2c5"
   }
  }
 },
 "nbformat": 4,
 "nbformat_minor": 2
}
