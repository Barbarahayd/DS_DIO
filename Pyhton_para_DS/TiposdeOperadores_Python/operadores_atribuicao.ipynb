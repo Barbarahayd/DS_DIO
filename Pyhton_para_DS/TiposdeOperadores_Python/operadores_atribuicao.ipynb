{
 "cells": [
  {
   "cell_type": "code",
   "execution_count": 1,
   "metadata": {},
   "outputs": [
    {
     "name": "stdout",
     "output_type": "stream",
     "text": [
      "500\n"
     ]
    }
   ],
   "source": [
    "# Atribuicao simples\n",
    "\n",
    "saldo = 500\n",
    "\n",
    "print(saldo)\n"
   ]
  },
  {
   "cell_type": "code",
   "execution_count": 2,
   "metadata": {},
   "outputs": [
    {
     "name": "stdout",
     "output_type": "stream",
     "text": [
      "700\n"
     ]
    }
   ],
   "source": [
    "# Atribuicao com Adicao (modifica o valor atribuido)\n",
    "\n",
    "saldo = 500\n",
    "saldo += 200  # forma reduzida de:  saldo = saldo + 200 (saldo recebe ele + 200)\n",
    "\n",
    "print(saldo)"
   ]
  },
  {
   "cell_type": "code",
   "execution_count": 3,
   "metadata": {},
   "outputs": [
    {
     "name": "stdout",
     "output_type": "stream",
     "text": [
      "400\n"
     ]
    }
   ],
   "source": [
    "# Atribuicao com Subtracao\n",
    "\n",
    "saldo = 500\n",
    "saldo -= 100\n",
    "\n",
    "print(saldo)"
   ]
  },
  {
   "cell_type": "code",
   "execution_count": 6,
   "metadata": {},
   "outputs": [
    {
     "name": "stdout",
     "output_type": "stream",
     "text": [
      "100.0\n",
      "100\n"
     ]
    }
   ],
   "source": [
    "# Atribuicao com Divisao (regular e inteira)\n",
    "\n",
    "saldo = 500\n",
    "saldo /= 5\n",
    "\n",
    "print(saldo)\n",
    "\n",
    "#div. inteira\n",
    "saldo = 500\n",
    "saldo //= 5\n",
    "\n",
    "print(saldo)"
   ]
  }
 ],
 "metadata": {
  "kernelspec": {
   "display_name": "Python 3.10.6 64-bit (microsoft store)",
   "language": "python",
   "name": "python3"
  },
  "language_info": {
   "codemirror_mode": {
    "name": "ipython",
    "version": 3
   },
   "file_extension": ".py",
   "mimetype": "text/x-python",
   "name": "python",
   "nbconvert_exporter": "python",
   "pygments_lexer": "ipython3",
   "version": "3.10.6"
  },
  "orig_nbformat": 4,
  "vscode": {
   "interpreter": {
    "hash": "285f3f6caf67aec96233242408f9bc1fae8bb65add26eb4becfdd5b1dc340099"
   }
  }
 },
 "nbformat": 4,
 "nbformat_minor": 2
}
