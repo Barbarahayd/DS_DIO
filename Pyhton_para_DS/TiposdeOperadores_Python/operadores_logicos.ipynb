{
 "cells": [
  {
   "cell_type": "code",
   "execution_count": 1,
   "metadata": {},
   "outputs": [],
   "source": [
    "# Operadores logicos sao usados juntamente com Operadores de comparacao"
   ]
  },
  {
   "cell_type": "code",
   "execution_count": 6,
   "metadata": {},
   "outputs": [
    {
     "data": {
      "text/plain": [
       "False"
      ]
     },
     "execution_count": 6,
     "metadata": {},
     "output_type": "execute_result"
    }
   ],
   "source": [
    "#Ex - Operador E (AND)\n",
    "\n",
    "saldo = 1000\n",
    "saque = 200\n",
    "limite = 100\n",
    "\n",
    "saldo >= saque and saque <= limite"
   ]
  },
  {
   "cell_type": "code",
   "execution_count": 8,
   "metadata": {},
   "outputs": [
    {
     "data": {
      "text/plain": [
       "True"
      ]
     },
     "execution_count": 8,
     "metadata": {},
     "output_type": "execute_result"
    }
   ],
   "source": [
    "#Ex - Operador OU (OR)\n",
    "\n",
    "saldo = 1000\n",
    "saque = 200\n",
    "limite = 100\n",
    "\n",
    "saldo >= saque or saque <= limite"
   ]
  },
  {
   "cell_type": "code",
   "execution_count": 9,
   "metadata": {},
   "outputs": [
    {
     "data": {
      "text/plain": [
       "True"
      ]
     },
     "execution_count": 9,
     "metadata": {},
     "output_type": "execute_result"
    }
   ],
   "source": [
    "#Ex - Operador NEGACAO (NOT)\n",
    "\n",
    "saldo = 1000\n",
    "saque = 200\n",
    "limite = 100\n",
    "\n",
    "not saldo < saque   #inverte o logica, esse caso a saida seria False mas o operador NOT a tornou True"
   ]
  },
  {
   "cell_type": "code",
   "execution_count": 10,
   "metadata": {},
   "outputs": [
    {
     "data": {
      "text/plain": [
       "True"
      ]
     },
     "execution_count": 10,
     "metadata": {},
     "output_type": "execute_result"
    }
   ],
   "source": [
    "# Parenteses\n",
    "\n",
    "saldo = 1000\n",
    "saque = 200\n",
    "limite = 100\n",
    "conta_especial = True\n",
    "\n",
    "(saldo >= saque and saque <= limite) or (conta_especial and saldo >= saque)"
   ]
  }
 ],
 "metadata": {
  "kernelspec": {
   "display_name": "Python 3.10.6 64-bit (microsoft store)",
   "language": "python",
   "name": "python3"
  },
  "language_info": {
   "codemirror_mode": {
    "name": "ipython",
    "version": 3
   },
   "file_extension": ".py",
   "mimetype": "text/x-python",
   "name": "python",
   "nbconvert_exporter": "python",
   "pygments_lexer": "ipython3",
   "version": "3.10.6"
  },
  "orig_nbformat": 4,
  "vscode": {
   "interpreter": {
    "hash": "285f3f6caf67aec96233242408f9bc1fae8bb65add26eb4becfdd5b1dc340099"
   }
  }
 },
 "nbformat": 4,
 "nbformat_minor": 2
}
