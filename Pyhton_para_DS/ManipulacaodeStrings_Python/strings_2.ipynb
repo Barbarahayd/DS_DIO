{
 "cells": [
  {
   "cell_type": "code",
   "execution_count": 6,
   "metadata": {},
   "outputs": [
    {
     "name": "stdout",
     "output_type": "stream",
     "text": [
      "B\n",
      "t\n",
      "Barbara H\n",
      "aydee Presente\n",
      "BraaH\n"
     ]
    }
   ],
   "source": [
    "# FATIAMENTO\n",
    "\n",
    "nome = \"Barbara Haydee Presente\"\n",
    "\n",
    "print(nome[0])\n",
    "print(nome[-2])\n",
    "print(nome[:9])\n",
    "print(nome[9:])\n",
    "print(nome[0:10:2])   #start, stop e step"
   ]
  },
  {
   "cell_type": "code",
   "execution_count": 8,
   "metadata": {},
   "outputs": [
    {
     "name": "stdout",
     "output_type": "stream",
     "text": [
      "\n",
      "Ola meu nome e Barbara,\n",
      "Eu estou aprendendo Python\n"
     ]
    }
   ],
   "source": [
    "# STRINGS MULTIPLAS LINHAS\n",
    "\n",
    "nome = \"Barbara\"\n",
    "\n",
    "mensagem = f\"\"\"\n",
    "Ola meu nome e {nome},\n",
    "Eu estou aprendendo Python\"\"\"\n",
    "\n",
    "print(mensagem)\n"
   ]
  }
 ],
 "metadata": {
  "kernelspec": {
   "display_name": "Python 3.10.6 64-bit (microsoft store)",
   "language": "python",
   "name": "python3"
  },
  "language_info": {
   "codemirror_mode": {
    "name": "ipython",
    "version": 3
   },
   "file_extension": ".py",
   "mimetype": "text/x-python",
   "name": "python",
   "nbconvert_exporter": "python",
   "pygments_lexer": "ipython3",
   "version": "3.10.6"
  },
  "orig_nbformat": 4,
  "vscode": {
   "interpreter": {
    "hash": "285f3f6caf67aec96233242408f9bc1fae8bb65add26eb4becfdd5b1dc340099"
   }
  }
 },
 "nbformat": 4,
 "nbformat_minor": 2
}
