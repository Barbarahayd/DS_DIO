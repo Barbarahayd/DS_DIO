{
 "cells": [
  {
   "cell_type": "code",
   "execution_count": 4,
   "metadata": {},
   "outputs": [
    {
     "name": "stdout",
     "output_type": "stream",
     "text": [
      "BARBARA\n",
      "barbara\n",
      "Barbara\n"
     ]
    }
   ],
   "source": [
    "nome = \"baRbaRa\"\n",
    "\n",
    "print(nome.upper())\n",
    "print(nome.lower())\n",
    "print(nome.title())"
   ]
  },
  {
   "cell_type": "code",
   "execution_count": 7,
   "metadata": {},
   "outputs": [
    {
     "name": "stdout",
     "output_type": "stream",
     "text": [
      "     Hello brave wild word!   \n",
      "Hello brave wild word!\n"
     ]
    }
   ],
   "source": [
    "texto = \"     Hello brave wild word!   \"\n",
    "\n",
    "print(texto)\n",
    "print(texto.strip())    #metodo strip remove os espacos em branco de um texto"
   ]
  },
  {
   "cell_type": "code",
   "execution_count": 10,
   "metadata": {},
   "outputs": [
    {
     "name": "stdout",
     "output_type": "stream",
     "text": [
      "              Hello brave wild word!              \n",
      "**************Hello brave wild word!**************\n"
     ]
    }
   ],
   "source": [
    "menu = \"Hello brave wild word!\"\n",
    "\n",
    "print(menu.center(50))\n",
    "print(menu.center(50, \"*\"))  #center para centralizar uma string"
   ]
  },
  {
   "cell_type": "code",
   "execution_count": 12,
   "metadata": {},
   "outputs": [
    {
     "name": "stdout",
     "output_type": "stream",
     "text": [
      "H-e-l-l-o- -b-r-a-v-e- -w-i-l-d- -w-o-r-d-!\n"
     ]
    }
   ],
   "source": [
    "print(\"-\".join(menu))   # join insere um novo caracte a cada letra (iteracao)"
   ]
  },
  {
   "cell_type": "code",
   "execution_count": 15,
   "metadata": {},
   "outputs": [
    {
     "name": "stdout",
     "output_type": "stream",
     "text": [
      "The Office é uma Sitcom norte americana e possui 9 temporadas.\n"
     ]
    }
   ],
   "source": [
    "# INTERPOLACAO DE VARIAVEIS, COM f-string\n",
    "\n",
    "nome = \"The Office\"\n",
    "genero = \"Sitcom\"\n",
    "n_temporadas = \"9\"\n",
    "\n",
    "print(f\"{nome} é uma {genero} norte americana e possui {n_temporadas} temporadas.\")"
   ]
  },
  {
   "cell_type": "code",
   "execution_count": 17,
   "metadata": {},
   "outputs": [
    {
     "name": "stdout",
     "output_type": "stream",
     "text": [
      "Valor de PI: 3.14\n",
      "Valor de PI:       3.14\n"
     ]
    }
   ],
   "source": [
    "# FORMATAR STRINGS COM f-string\n",
    "\n",
    "PI = 3.14159\n",
    "\n",
    "print(f\"Valor de PI: {PI:.2f}\")   # exibe 2 caracteres depois do ponto\n",
    "\n",
    "print(f\"Valor de PI: {PI:10.2f}\")  # pula um espaco de 10 caracteres no inicio da string"
   ]
  }
 ],
 "metadata": {
  "kernelspec": {
   "display_name": "Python 3.10.6 64-bit (microsoft store)",
   "language": "python",
   "name": "python3"
  },
  "language_info": {
   "codemirror_mode": {
    "name": "ipython",
    "version": 3
   },
   "file_extension": ".py",
   "mimetype": "text/x-python",
   "name": "python",
   "nbconvert_exporter": "python",
   "pygments_lexer": "ipython3",
   "version": "3.10.6"
  },
  "orig_nbformat": 4,
  "vscode": {
   "interpreter": {
    "hash": "285f3f6caf67aec96233242408f9bc1fae8bb65add26eb4becfdd5b1dc340099"
   }
  }
 },
 "nbformat": 4,
 "nbformat_minor": 2
}
